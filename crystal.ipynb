{
 "cells": [
  {
   "attachments": {},
   "cell_type": "markdown",
   "metadata": {},
   "source": [
    "## Importing libraries"
   ]
  },
  {
   "cell_type": "code",
   "execution_count": 83,
   "metadata": {},
   "outputs": [],
   "source": [
    "import numpy as np\n",
    "import pandas as pd\n",
    "import matplotlib.pyplot as plt\n",
    "%matplotlib inline\n",
    "import seaborn as sns\n",
    "pd.pandas.set_option('display.max_columns', None);"
   ]
  },
  {
   "attachments": {},
   "cell_type": "markdown",
   "metadata": {},
   "source": [
    "## Loading Data"
   ]
  },
  {
   "cell_type": "code",
   "execution_count": 84,
   "metadata": {},
   "outputs": [
    {
     "data": {
      "text/plain": [
       "(5329, 18)"
      ]
     },
     "execution_count": 84,
     "metadata": {},
     "output_type": "execute_result"
    }
   ],
   "source": [
    "df = pd.read_csv('crystal_data.csv')\n",
    "df.shape"
   ]
  },
  {
   "attachments": {},
   "cell_type": "markdown",
   "metadata": {},
   "source": [
    "### Columns\n",
    "Compound - Compound name\n",
    "<br>A - First element\n",
    "<br>B - Second element\n",
    "<br>In literature - Boolean True or False\n",
    "<br>v(A) - Valency of A\n",
    "<br>v(B) - Valency of B\n",
    "<br>r(AXII)(Å) - Ionic radius of A cation\n",
    "<br>r(AVI)(Å) - Ionic radius of B cation\n",
    "<br>EN(A) - Average electronegativity value of A cation\n",
    "<br>EN(B) - Average electronegativity value of B cation\n"
   ]
  },
  {
   "cell_type": "code",
   "execution_count": 85,
   "metadata": {},
   "outputs": [
    {
     "data": {
      "text/html": [
       "<div>\n",
       "<style scoped>\n",
       "    .dataframe tbody tr th:only-of-type {\n",
       "        vertical-align: middle;\n",
       "    }\n",
       "\n",
       "    .dataframe tbody tr th {\n",
       "        vertical-align: top;\n",
       "    }\n",
       "\n",
       "    .dataframe thead th {\n",
       "        text-align: right;\n",
       "    }\n",
       "</style>\n",
       "<table border=\"1\" class=\"dataframe\">\n",
       "  <thead>\n",
       "    <tr style=\"text-align: right;\">\n",
       "      <th></th>\n",
       "      <th>Compound</th>\n",
       "      <th>A</th>\n",
       "      <th>B</th>\n",
       "      <th>In literature</th>\n",
       "      <th>v(A)</th>\n",
       "      <th>v(B)</th>\n",
       "      <th>r(AXII)(Å)</th>\n",
       "      <th>r(AVI)(Å)</th>\n",
       "      <th>r(BVI)(Å)</th>\n",
       "      <th>EN(A)</th>\n",
       "      <th>EN(B)</th>\n",
       "      <th>l(A-O)(Å)</th>\n",
       "      <th>l(B-O)(Å)</th>\n",
       "      <th>ΔENR</th>\n",
       "      <th>tG</th>\n",
       "      <th>τ</th>\n",
       "      <th>μ</th>\n",
       "      <th>Lowest distortion</th>\n",
       "    </tr>\n",
       "  </thead>\n",
       "  <tbody>\n",
       "    <tr>\n",
       "      <th>0</th>\n",
       "      <td>Ac2O3</td>\n",
       "      <td>Ac</td>\n",
       "      <td>Ac</td>\n",
       "      <td>False</td>\n",
       "      <td>0</td>\n",
       "      <td>0</td>\n",
       "      <td>1.12</td>\n",
       "      <td>1.12</td>\n",
       "      <td>1.12</td>\n",
       "      <td>1.1</td>\n",
       "      <td>1.10</td>\n",
       "      <td>0.0</td>\n",
       "      <td>0.000000</td>\n",
       "      <td>-3.248000</td>\n",
       "      <td>0.707107</td>\n",
       "      <td>-</td>\n",
       "      <td>0.800000</td>\n",
       "      <td>cubic</td>\n",
       "    </tr>\n",
       "    <tr>\n",
       "      <th>1</th>\n",
       "      <td>AcAgO3</td>\n",
       "      <td>Ac</td>\n",
       "      <td>Ag</td>\n",
       "      <td>False</td>\n",
       "      <td>0</td>\n",
       "      <td>0</td>\n",
       "      <td>1.12</td>\n",
       "      <td>1.12</td>\n",
       "      <td>0.95</td>\n",
       "      <td>1.1</td>\n",
       "      <td>1.93</td>\n",
       "      <td>0.0</td>\n",
       "      <td>2.488353</td>\n",
       "      <td>-2.565071</td>\n",
       "      <td>0.758259</td>\n",
       "      <td>-</td>\n",
       "      <td>0.678571</td>\n",
       "      <td>orthorhombic</td>\n",
       "    </tr>\n",
       "    <tr>\n",
       "      <th>2</th>\n",
       "      <td>AcAlO3</td>\n",
       "      <td>Ac</td>\n",
       "      <td>Al</td>\n",
       "      <td>False</td>\n",
       "      <td>0</td>\n",
       "      <td>0</td>\n",
       "      <td>1.12</td>\n",
       "      <td>1.12</td>\n",
       "      <td>0.54</td>\n",
       "      <td>1.1</td>\n",
       "      <td>1.61</td>\n",
       "      <td>0.0</td>\n",
       "      <td>1.892894</td>\n",
       "      <td>-1.846714</td>\n",
       "      <td>0.918510</td>\n",
       "      <td>-</td>\n",
       "      <td>0.385714</td>\n",
       "      <td>cubic</td>\n",
       "    </tr>\n",
       "    <tr>\n",
       "      <th>3</th>\n",
       "      <td>AcAsO3</td>\n",
       "      <td>Ac</td>\n",
       "      <td>As</td>\n",
       "      <td>False</td>\n",
       "      <td>0</td>\n",
       "      <td>0</td>\n",
       "      <td>1.12</td>\n",
       "      <td>1.12</td>\n",
       "      <td>0.52</td>\n",
       "      <td>1.1</td>\n",
       "      <td>2.18</td>\n",
       "      <td>0.0</td>\n",
       "      <td>1.932227</td>\n",
       "      <td>-1.577429</td>\n",
       "      <td>0.928078</td>\n",
       "      <td>-</td>\n",
       "      <td>0.371429</td>\n",
       "      <td>orthorhombic</td>\n",
       "    </tr>\n",
       "    <tr>\n",
       "      <th>4</th>\n",
       "      <td>AcAuO3</td>\n",
       "      <td>Ac</td>\n",
       "      <td>Au</td>\n",
       "      <td>False</td>\n",
       "      <td>0</td>\n",
       "      <td>0</td>\n",
       "      <td>1.12</td>\n",
       "      <td>1.12</td>\n",
       "      <td>0.93</td>\n",
       "      <td>1.1</td>\n",
       "      <td>2.54</td>\n",
       "      <td>0.0</td>\n",
       "      <td>2.313698</td>\n",
       "      <td>-2.279786</td>\n",
       "      <td>0.764768</td>\n",
       "      <td>-</td>\n",
       "      <td>0.664286</td>\n",
       "      <td>orthorhombic</td>\n",
       "    </tr>\n",
       "  </tbody>\n",
       "</table>\n",
       "</div>"
      ],
      "text/plain": [
       "  Compound   A   B  In literature v(A) v(B)  r(AXII)(Å)  r(AVI)(Å)  r(BVI)(Å)  \\\n",
       "0    Ac2O3  Ac  Ac          False    0    0        1.12       1.12       1.12   \n",
       "1   AcAgO3  Ac  Ag          False    0    0        1.12       1.12       0.95   \n",
       "2   AcAlO3  Ac  Al          False    0    0        1.12       1.12       0.54   \n",
       "3   AcAsO3  Ac  As          False    0    0        1.12       1.12       0.52   \n",
       "4   AcAuO3  Ac  Au          False    0    0        1.12       1.12       0.93   \n",
       "\n",
       "   EN(A)  EN(B)  l(A-O)(Å)  l(B-O)(Å)      ΔENR        tG  τ         μ  \\\n",
       "0    1.1   1.10        0.0   0.000000 -3.248000  0.707107  -  0.800000   \n",
       "1    1.1   1.93        0.0   2.488353 -2.565071  0.758259  -  0.678571   \n",
       "2    1.1   1.61        0.0   1.892894 -1.846714  0.918510  -  0.385714   \n",
       "3    1.1   2.18        0.0   1.932227 -1.577429  0.928078  -  0.371429   \n",
       "4    1.1   2.54        0.0   2.313698 -2.279786  0.764768  -  0.664286   \n",
       "\n",
       "  Lowest distortion  \n",
       "0             cubic  \n",
       "1      orthorhombic  \n",
       "2             cubic  \n",
       "3      orthorhombic  \n",
       "4      orthorhombic  "
      ]
     },
     "execution_count": 85,
     "metadata": {},
     "output_type": "execute_result"
    }
   ],
   "source": [
    "df.head()"
   ]
  },
  {
   "attachments": {},
   "cell_type": "markdown",
   "metadata": {},
   "source": [
    "## Data Cleaning and Pre processing"
   ]
  },
  {
   "attachments": {},
   "cell_type": "markdown",
   "metadata": {},
   "source": [
    "### Checking for null values"
   ]
  },
  {
   "cell_type": "code",
   "execution_count": 86,
   "metadata": {},
   "outputs": [
    {
     "name": "stdout",
     "output_type": "stream",
     "text": [
      "<class 'pandas.core.frame.DataFrame'>\n",
      "RangeIndex: 5329 entries, 0 to 5328\n",
      "Data columns (total 18 columns):\n",
      " #   Column             Non-Null Count  Dtype  \n",
      "---  ------             --------------  -----  \n",
      " 0   Compound           5329 non-null   object \n",
      " 1   A                  5329 non-null   object \n",
      " 2   B                  5329 non-null   object \n",
      " 3   In literature      5329 non-null   bool   \n",
      " 4   v(A)               5329 non-null   object \n",
      " 5   v(B)               5329 non-null   object \n",
      " 6   r(AXII)(Å)         5329 non-null   float64\n",
      " 7   r(AVI)(Å)          5329 non-null   float64\n",
      " 8   r(BVI)(Å)          5329 non-null   float64\n",
      " 9   EN(A)              5329 non-null   float64\n",
      " 10  EN(B)              5329 non-null   float64\n",
      " 11  l(A-O)(Å)          5329 non-null   float64\n",
      " 12  l(B-O)(Å)          5329 non-null   float64\n",
      " 13  ΔENR               5329 non-null   float64\n",
      " 14  tG                 5329 non-null   float64\n",
      " 15  τ                  5329 non-null   object \n",
      " 16  μ                  5329 non-null   float64\n",
      " 17  Lowest distortion  5329 non-null   object \n",
      "dtypes: bool(1), float64(10), object(7)\n",
      "memory usage: 713.1+ KB\n"
     ]
    }
   ],
   "source": [
    "df.info()"
   ]
  },
  {
   "attachments": {},
   "cell_type": "markdown",
   "metadata": {},
   "source": [
    "There is not any 'NaN' value in the dataset but it seem there are lots of dashes('-') present in the different columns "
   ]
  },
  {
   "cell_type": "code",
   "execution_count": 87,
   "metadata": {},
   "outputs": [
    {
     "data": {
      "text/plain": [
       "Compound                0\n",
       "A                       0\n",
       "B                       0\n",
       "In literature           0\n",
       "v(A)                 1881\n",
       "v(B)                 1881\n",
       "r(AXII)(Å)              0\n",
       "r(AVI)(Å)               0\n",
       "r(BVI)(Å)               0\n",
       "EN(A)                   0\n",
       "EN(B)                   0\n",
       "l(A-O)(Å)               0\n",
       "l(B-O)(Å)               0\n",
       "ΔENR                    0\n",
       "tG                      0\n",
       "τ                    3143\n",
       "μ                       0\n",
       "Lowest distortion      53\n",
       "dtype: int64"
      ]
     },
     "execution_count": 87,
     "metadata": {},
     "output_type": "execute_result"
    }
   ],
   "source": [
    "(df == '-').sum()"
   ]
  },
  {
   "attachments": {},
   "cell_type": "markdown",
   "metadata": {},
   "source": [
    " From here it's clear that dashes are present in 'v(A)', 'v(B), 'τ', and 'Lowest distortion' columns.\n",
    "* 'Lowest distortion' is going to be our target column we can use entries with '-' in our testing phase, hence no need to think about handling of this column's data or we can also just remove these rows as the number of '-' is just 53 and we can't predict that our prediction is correct or not corresponding to these columns.<br>\n",
    "* In case of 'τ' more than 50% of the entries are not present, that's why better than handling we should drop this column otherwise this can affect our results. "
   ]
  },
  {
   "cell_type": "code",
   "execution_count": 88,
   "metadata": {},
   "outputs": [
    {
     "data": {
      "text/plain": [
       "Index(['Compound', 'A', 'B', 'In literature', 'v(A)', 'v(B)', 'r(AXII)(Å)',\n",
       "       'r(AVI)(Å)', 'r(BVI)(Å)', 'EN(A)', 'EN(B)', 'l(A-O)(Å)', 'l(B-O)(Å)',\n",
       "       'ΔENR', 'tG', 'μ', 'Lowest distortion'],\n",
       "      dtype='object')"
      ]
     },
     "execution_count": 88,
     "metadata": {},
     "output_type": "execute_result"
    }
   ],
   "source": [
    "df = df.drop([\"τ\"], axis=1)\n",
    "df.columns"
   ]
  },
  {
   "cell_type": "code",
   "execution_count": 89,
   "metadata": {},
   "outputs": [
    {
     "name": "stdout",
     "output_type": "stream",
     "text": [
      "7\n",
      "7\n"
     ]
    }
   ],
   "source": [
    "print(len(df[\"v(A)\"].unique()))\n",
    "print(len(df[\"v(B)\"].unique()))"
   ]
  },
  {
   "cell_type": "code",
   "execution_count": 90,
   "metadata": {},
   "outputs": [],
   "source": [
    "val_a = pd.get_dummies(df['v(A)'], prefix=\"v(A)=\", prefix_sep=\"\")\n",
    "val_b = pd.get_dummies(df['v(B)'], prefix=\"v(B)=\", prefix_sep=\"\")\n",
    "df = pd.concat([df, val_a, val_b], axis=1)"
   ]
  },
  {
   "cell_type": "code",
   "execution_count": 91,
   "metadata": {},
   "outputs": [
    {
     "data": {
      "text/plain": [
       "Index(['Compound', 'A', 'B', 'In literature', 'r(AXII)(Å)', 'r(AVI)(Å)',\n",
       "       'r(BVI)(Å)', 'EN(A)', 'EN(B)', 'l(A-O)(Å)', 'l(B-O)(Å)', 'ΔENR', 'tG',\n",
       "       'μ', 'Lowest distortion', 'v(A)=-', 'v(A)=0', 'v(A)=1', 'v(A)=2',\n",
       "       'v(A)=3', 'v(A)=4', 'v(A)=5', 'v(B)=-', 'v(B)=0', 'v(B)=1', 'v(B)=2',\n",
       "       'v(B)=3', 'v(B)=4', 'v(B)=5'],\n",
       "      dtype='object')"
      ]
     },
     "execution_count": 91,
     "metadata": {},
     "output_type": "execute_result"
    }
   ],
   "source": [
    "df = df.drop([\"v(A)\"], axis=1)\n",
    "df = df.drop([\"v(B)\"], axis=1)\n",
    "df.columns"
   ]
  },
  {
   "cell_type": "code",
   "execution_count": 92,
   "metadata": {},
   "outputs": [
    {
     "data": {
      "text/plain": [
       "Index(['A', 'B', 'r(AXII)(Å)', 'r(AVI)(Å)', 'r(BVI)(Å)', 'EN(A)', 'EN(B)',\n",
       "       'l(A-O)(Å)', 'l(B-O)(Å)', 'ΔENR', 'tG', 'μ', 'Lowest distortion',\n",
       "       'v(A)=-', 'v(A)=0', 'v(A)=1', 'v(A)=2', 'v(A)=3', 'v(A)=4', 'v(A)=5',\n",
       "       'v(B)=-', 'v(B)=0', 'v(B)=1', 'v(B)=2', 'v(B)=3', 'v(B)=4', 'v(B)=5'],\n",
       "      dtype='object')"
      ]
     },
     "execution_count": 92,
     "metadata": {},
     "output_type": "execute_result"
    }
   ],
   "source": [
    "df = df.drop([\"In literature\"], axis=1)\n",
    "df = df.drop([\"Compound\"], axis=1)\n",
    "df.columns"
   ]
  },
  {
   "cell_type": "code",
   "execution_count": 93,
   "metadata": {},
   "outputs": [],
   "source": [
    "a_ = pd.get_dummies(df['A'], prefix=\"A=\", prefix_sep=\"\")\n",
    "b_ = pd.get_dummies(df['B'], prefix=\"B=\", prefix_sep=\"\")\n",
    "df = pd.concat([df, a_, b_], axis=1)"
   ]
  },
  {
   "cell_type": "code",
   "execution_count": 94,
   "metadata": {},
   "outputs": [],
   "source": [
    "df = df.drop([\"A\"], axis=1)\n",
    "df = df.drop([\"B\"], axis=1)"
   ]
  },
  {
   "cell_type": "code",
   "execution_count": 95,
   "metadata": {},
   "outputs": [],
   "source": [
    "df = df.drop(df[df[\"Lowest distortion\"] == \"-\"].index)"
   ]
  },
  {
   "cell_type": "code",
   "execution_count": 96,
   "metadata": {},
   "outputs": [
    {
     "data": {
      "text/plain": [
       "0"
      ]
     },
     "execution_count": 96,
     "metadata": {},
     "output_type": "execute_result"
    }
   ],
   "source": [
    "(df == '-').sum().sum()"
   ]
  },
  {
   "attachments": {},
   "cell_type": "markdown",
   "metadata": {},
   "source": [
    "## Modelling"
   ]
  },
  {
   "cell_type": "code",
   "execution_count": 97,
   "metadata": {},
   "outputs": [],
   "source": [
    "features = df.drop(labels=[\"Lowest distortion\"], axis=1)\n",
    "target = df[\"Lowest distortion\"]"
   ]
  },
  {
   "cell_type": "code",
   "execution_count": 98,
   "metadata": {},
   "outputs": [],
   "source": [
    "from sklearn.model_selection import train_test_split\n",
    "\n",
    "SEED = 0\n",
    "X_train, X_test, y_train, y_test = train_test_split(features, target, test_size=0.20, random_state=SEED)"
   ]
  },
  {
   "attachments": {},
   "cell_type": "markdown",
   "metadata": {},
   "source": [
    "### Random forest"
   ]
  },
  {
   "cell_type": "code",
   "execution_count": 99,
   "metadata": {},
   "outputs": [],
   "source": [
    "from sklearn.ensemble import RandomForestClassifier\n",
    "\n",
    "rf = RandomForestClassifier(n_estimators=100, random_state=42)\n",
    "rf.fit(X_train, y_train)\n",
    "y_pred1 = rf.predict(X_test)"
   ]
  },
  {
   "cell_type": "code",
   "execution_count": 100,
   "metadata": {},
   "outputs": [
    {
     "name": "stdout",
     "output_type": "stream",
     "text": [
      "Accuracy of the SVC: 79.07%\n"
     ]
    }
   ],
   "source": [
    "accuracy1 = round(rf.score(X_test, y_test) * 100, 2)\n",
    "print(f\"Accuracy of the SVC: {accuracy1}%\")"
   ]
  },
  {
   "attachments": {},
   "cell_type": "markdown",
   "metadata": {},
   "source": [
    "### SVM"
   ]
  },
  {
   "cell_type": "code",
   "execution_count": 101,
   "metadata": {},
   "outputs": [],
   "source": [
    "from sklearn.svm import SVC\n",
    "\n",
    "model = SVC()\n",
    "model.fit(X_train,y_train)\n",
    "y_pred2 = model.predict(X_test)"
   ]
  },
  {
   "cell_type": "code",
   "execution_count": 102,
   "metadata": {},
   "outputs": [
    {
     "name": "stdout",
     "output_type": "stream",
     "text": [
      "Accuracy of the SVC: 68.66%\n"
     ]
    }
   ],
   "source": [
    "accuracy2 = round(model.score(X_test, y_test) * 100, 2)\n",
    "print(f\"Accuracy of the SVC: {accuracy2}%\")\n"
   ]
  },
  {
   "attachments": {},
   "cell_type": "markdown",
   "metadata": {},
   "source": [
    "### Decision Tree"
   ]
  },
  {
   "cell_type": "code",
   "execution_count": 103,
   "metadata": {},
   "outputs": [],
   "source": [
    "from sklearn.tree import DecisionTreeClassifier\n",
    "\n",
    "dtree = DecisionTreeClassifier()\n",
    "dtree.fit(X_train,y_train)\n",
    "y_pred3 = dtree.predict(X_test)"
   ]
  },
  {
   "cell_type": "code",
   "execution_count": 104,
   "metadata": {},
   "outputs": [
    {
     "name": "stdout",
     "output_type": "stream",
     "text": [
      "Accuracy of the dtree: 73.2%\n"
     ]
    }
   ],
   "source": [
    "accuracy3 = round(dtree.score(X_test, y_test) * 100, 2)\n",
    "print(f\"Accuracy of the dtree: {accuracy3}%\")"
   ]
  },
  {
   "attachments": {},
   "cell_type": "markdown",
   "metadata": {},
   "source": [
    "## Results\n"
   ]
  },
  {
   "cell_type": "code",
   "execution_count": 105,
   "metadata": {},
   "outputs": [
    {
     "data": {
      "image/png": "[encoded data removed]",
      "text/plain": [
       "<Figure size 432x288 with 1 Axes>"
      ]
     },
     "metadata": {
      "needs_background": "light"
     },
     "output_type": "display_data"
    }
   ],
   "source": [
    "X =  list([\"Random forest\",\"SVM\",\"Decision tree\"])\n",
    "Y =  list([accuracy1, accuracy2, accuracy3])\n",
    "\n",
    "plt.bar(X, Y, color ='maroon',width = 0.4)\n",
    "\n",
    "plt.xlabel(\"Models\")\n",
    "plt.ylabel(\"accuracy %\")\n",
    "plt.title(\"accuracy % vs models\")\n",
    "plt.show()"
   ]
  },
  {
   "cell_type": "code",
   "execution_count": null,
   "metadata": {},
   "outputs": [],
   "source": []
  },
  {
   "cell_type": "code",
   "execution_count": null,
   "metadata": {},
   "outputs": [],
   "source": []
  }
 ],
 "metadata": {
  "kernelspec": {
   "display_name": "Python 3",
   "language": "python",
   "name": "python3"
  },
  "language_info": {
   "codemirror_mode": {
    "name": "ipython",
    "version": 3
   },
   "file_extension": ".py",
   "mimetype": "text/x-python",
   "name": "python",
   "nbconvert_exporter": "python",
   "pygments_lexer": "ipython3",
   "version": "3.10.6"
  },
  "orig_nbformat": 4
 },
 "nbformat": 4,
 "nbformat_minor": 2
}
